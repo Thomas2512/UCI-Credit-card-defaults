{
 "cells": [
  {
   "cell_type": "markdown",
   "metadata": {},
   "source": [
    " --- \n",
    "# UCI - Default from Credit Card Clients\n",
    "---"
   ]
  },
  {
   "cell_type": "markdown",
   "metadata": {
    "toc-hr-collapsed": true
   },
   "source": [
    "# Dataset presentation\n",
    "\n",
    "This dataset contains information on default payments, demographic factors, credit data, history of payment, and bill statements of credit card clients in Taiwan from April 2005 to September 2005.\n",
    "\n",
    "It can be found here:\n",
    "https://archive.ics.uci.edu/ml/datasets/default+of+credit+card+clients"
   ]
  },
  {
   "cell_type": "markdown",
   "metadata": {},
   "source": [
    "## Variables\n",
    "There are 25 variables:\n",
    "\n",
    "* ID: ID of each client\n",
    "* LIMIT_BAL: Amount of given credit in NT dollars (includes individual and family/supplementary credit\n",
    "* SEX: Gender (1=male, 2=female)\n",
    "* EDUCATION: (1=graduate school, 2=university, 3=high school, 4=others, 5=unknown, 6=unknown)\n",
    "* MARRIAGE: Marital status (1=married, 2=single, 3=others)\n",
    "* AGE: Age in years\n",
    "* PAY_0: Repayment status in September, 2005 (-1=pay duly, 1=payment delay for one month, 2=payment delay for two months, ... 8=payment delay for eight months, 9=payment delay for nine months and above)\n",
    "* PAY_2: Repayment status in August, 2005 (scale same as above)\n",
    "* PAY_3: Repayment status in July, 2005 (scale same as above)\n",
    "* PAY_4: Repayment status in June, 2005 (scale same as above)\n",
    "* PAY_5: Repayment status in May, 2005 (scale same as above)\n",
    "* PAY_6: Repayment status in April, 2005 (scale same as above)\n",
    "* BILL_AMT1: Amount of bill statement in September, 2005 (NT dollar)\n",
    "* BILL_AMT2: Amount of bill statement in August, 2005 (NT dollar)\n",
    "* BILL_AMT3: Amount of bill statement in July, 2005 (NT dollar)\n",
    "* BILL_AMT4: Amount of bill statement in June, 2005 (NT dollar)\n",
    "* BILL_AMT5: Amount of bill statement in May, 2005 (NT dollar)\n",
    "* BILL_AMT6: Amount of bill statement in April, 2005 (NT dollar)\n",
    "* PAY_AMT1: Amount of previous payment in September, 2005 (NT dollar)\n",
    "* PAY_AMT2: Amount of previous payment in August, 2005 (NT dollar)\n",
    "* PAY_AMT3: Amount of previous payment in July, 2005 (NT dollar)\n",
    "* PAY_AMT4: Amount of previous payment in June, 2005 (NT dollar)\n",
    "* PAY_AMT5: Amount of previous payment in May, 2005 (NT dollar)\n",
    "* PAY_AMT6: Amount of previous payment in April, 2005 (NT dollar)\n",
    "* default.payment.next.month: Default payment (1=yes, 0=no)\n"
   ]
  },
  {
   "cell_type": "code",
   "execution_count": 2,
   "metadata": {},
   "outputs": [],
   "source": [
    "%load_ext autoreload\n",
    "%autoreload 2"
   ]
  },
  {
   "cell_type": "markdown",
   "metadata": {
    "toc-hr-collapsed": true
   },
   "source": [
    "# Useful imports"
   ]
  },
  {
   "cell_type": "markdown",
   "metadata": {},
   "source": [
    "## Packages"
   ]
  },
  {
   "cell_type": "code",
   "execution_count": 3,
   "metadata": {},
   "outputs": [],
   "source": [
    "import numpy as np # linear algebra\n",
    "import pandas as pd # data processing, CSV file I/O (e.g. pd.read_csv)\n",
    "import sklearn\n",
    "import matplotlib\n",
    "import matplotlib.pyplot as plt\n",
    "import seaborn as sns"
   ]
  },
  {
   "cell_type": "code",
   "execution_count": 4,
   "metadata": {},
   "outputs": [],
   "source": [
    "pd.set_option('display.max_columns', 120)"
   ]
  },
  {
   "cell_type": "code",
   "execution_count": 5,
   "metadata": {},
   "outputs": [],
   "source": [
    "sns.set_style(\"darkgrid\")"
   ]
  },
  {
   "cell_type": "markdown",
   "metadata": {},
   "source": [
    "## Data Preparation imports"
   ]
  },
  {
   "cell_type": "markdown",
   "metadata": {},
   "source": [
    "from sklearn.preprocessing import StandardScaler"
   ]
  },
  {
   "cell_type": "markdown",
   "metadata": {},
   "source": [
    "## Model imports"
   ]
  },
  {
   "cell_type": "code",
   "execution_count": 6,
   "metadata": {},
   "outputs": [],
   "source": [
    "from sklearn.linear_model import LogisticRegression\n",
    "from sklearn.model_selection import GridSearchCV"
   ]
  },
  {
   "cell_type": "code",
   "execution_count": 7,
   "metadata": {},
   "outputs": [],
   "source": [
    "import xgboost as xgb"
   ]
  },
  {
   "cell_type": "code",
   "execution_count": 8,
   "metadata": {},
   "outputs": [],
   "source": [
    "import lightgbm as lgb"
   ]
  },
  {
   "cell_type": "code",
   "execution_count": 9,
   "metadata": {},
   "outputs": [],
   "source": [
    "# import catboost"
   ]
  },
  {
   "cell_type": "markdown",
   "metadata": {},
   "source": [
    "## Preproecssing imports"
   ]
  },
  {
   "cell_type": "code",
   "execution_count": 20,
   "metadata": {},
   "outputs": [],
   "source": [
    "from sklearn.pipeline import Pipeline"
   ]
  },
  {
   "cell_type": "markdown",
   "metadata": {},
   "source": [
    "## Metrics imports"
   ]
  },
  {
   "cell_type": "code",
   "execution_count": 10,
   "metadata": {},
   "outputs": [],
   "source": [
    "from sklearn.model_selection import train_test_split\n",
    "from sklearn.metrics import classification_report\n",
    "from sklearn.metrics import confusion_matrix\n",
    "from sklearn.metrics import accuracy_score\n",
    "from sklearn.metrics import recall_score\n",
    "from sklearn.metrics import f1_score\n",
    "from sklearn.metrics import roc_auc_score"
   ]
  },
  {
   "cell_type": "code",
   "execution_count": 11,
   "metadata": {
    "scrolled": true
   },
   "outputs": [
    {
     "data": {
      "text/plain": [
       "['C:\\\\Users\\\\twang\\\\AppData\\\\Local\\\\Continuum\\\\anaconda3',\n",
       " 'C:\\\\Users\\\\twang\\\\AppData\\\\Local\\\\Continuum\\\\anaconda3\\\\Library\\\\mingw-w64\\\\bin',\n",
       " 'C:\\\\Users\\\\twang\\\\AppData\\\\Local\\\\Continuum\\\\anaconda3\\\\Library\\\\usr\\\\bin',\n",
       " 'C:\\\\Users\\\\twang\\\\AppData\\\\Local\\\\Continuum\\\\anaconda3\\\\Library\\\\bin',\n",
       " 'C:\\\\Users\\\\twang\\\\AppData\\\\Local\\\\Continuum\\\\anaconda3\\\\Scripts',\n",
       " 'C:\\\\Users\\\\twang\\\\AppData\\\\Local\\\\Continuum\\\\anaconda3\\\\bin',\n",
       " 'C:\\\\Users\\\\twang\\\\AppData\\\\Local\\\\Continuum\\\\anaconda3\\\\condabin',\n",
       " 'C:\\\\Program Files\\\\Docker\\\\Docker\\\\Resources\\\\bin',\n",
       " 'C:\\\\ProgramData\\\\Oracle\\\\Java\\\\javapath',\n",
       " 'C:\\\\WINDOWS\\\\system32',\n",
       " 'C:\\\\WINDOWS',\n",
       " 'C:\\\\WINDOWS\\\\System32\\\\Wbem',\n",
       " 'C:\\\\WINDOWS\\\\System32\\\\WindowsPowerShell\\\\v1.0',\n",
       " 'C:\\\\Program Files\\\\PuTTY',\n",
       " 'C:\\\\Program Files\\\\Intel\\\\WiFi\\\\bin',\n",
       " 'C:\\\\Program Files\\\\Common Files\\\\Intel\\\\WirelessCommon',\n",
       " 'C:\\\\Program Files\\\\Git LFS',\n",
       " 'C:\\\\Program Files\\\\Pandoc',\n",
       " 'C:\\\\Program Files\\\\MiKTeX 2.9\\\\miktex\\\\bin\\\\x64',\n",
       " 'C:\\\\Users\\\\twang\\\\AppData\\\\Local\\\\Continuum\\\\anaconda3',\n",
       " 'C:\\\\Users\\\\twang\\\\AppData\\\\Local\\\\Continuum\\\\anaconda3\\\\Library\\\\mingw-w64\\\\bin',\n",
       " 'C:\\\\Users\\\\twang\\\\AppData\\\\Local\\\\Continuum\\\\anaconda3\\\\Library\\\\usr\\\\bin',\n",
       " 'C:\\\\Users\\\\twang\\\\AppData\\\\Local\\\\Continuum\\\\anaconda3\\\\Library\\\\bin',\n",
       " 'C:\\\\Users\\\\twang\\\\AppData\\\\Local\\\\Continuum\\\\anaconda3\\\\Scripts',\n",
       " 'C:\\\\Users\\\\twang\\\\AppData\\\\Local\\\\Microsoft\\\\WindowsApps',\n",
       " 'C:\\\\Users\\\\twang\\\\AppData\\\\Local\\\\Programs\\\\Git\\\\cmd',\n",
       " 'C:\\\\Program Files\\\\Intel\\\\WiFi\\\\bin',\n",
       " 'C:\\\\Program Files\\\\Common Files\\\\Intel\\\\WirelessCommon',\n",
       " 'C:\\\\Users\\\\twang\\\\Downloads\\\\Portable\\\\npp.7.7.1.bin.x64',\n",
       " 'C:\\\\Program Files\\\\MiKTeX 2.9\\\\miktex\\\\bin\\\\x64',\n",
       " '.']"
      ]
     },
     "execution_count": 11,
     "metadata": {},
     "output_type": "execute_result"
    }
   ],
   "source": [
    "import os\n",
    "os.environ['PATH'].split(';')"
   ]
  },
  {
   "cell_type": "markdown",
   "metadata": {},
   "source": [
    "# Importing our Data easily!"
   ]
  },
  {
   "cell_type": "code",
   "execution_count": 12,
   "metadata": {},
   "outputs": [],
   "source": [
    "path = 'UCI_Credit_Card.csv'"
   ]
  },
  {
   "cell_type": "code",
   "execution_count": 13,
   "metadata": {},
   "outputs": [],
   "source": [
    "from dataprep.load import load_raw_data\n",
    "from dataprep.load import load_data\n",
    "from dataprep.load import load_data_xy\n",
    "\n",
    "\n",
    "df = load_data(path)\n",
    "X_raw, y_raw = load_data_xy(path)"
   ]
  },
  {
   "cell_type": "markdown",
   "metadata": {},
   "source": [
    "# Protocol for pipelined workflow"
   ]
  },
  {
   "cell_type": "raw",
   "metadata": {},
   "source": [
    "# * Pipeline for lowercasing\n",
    "* pipeline for re-labelling the mislabelled data\n",
    "\n",
    "* pipe for ageBins\n",
    "* pipe for gender x Marriage\n",
    "* pipe for gender x age\n",
    "* pipe for next month's bill\n",
    "---> One output: X_cat, que l'on normalise avec pipe=StandardScaler\n",
    "* pipe for 1-hot\n",
    "* pipe for scaling\n",
    "---> We get our second output X_1hot"
   ]
  },
  {
   "cell_type": "markdown",
   "metadata": {},
   "source": [
    "Puis on se doit de définir les dictionnaires / classes que l'on va utiliser pour stocker les modèles, leurs scores selon toutes les métriques"
   ]
  },
  {
   "cell_type": "raw",
   "metadata": {},
   "source": [
    "models = []\n",
    "models.append(LogisticReg...)\n",
    "\n",
    "scores_accuracy={}\n",
    "scores_recall\n",
    "scores_auc\n",
    "features_importances={}\n",
    "chacun de ces dictionnaires contenant les performances du modèle: {'test': score_test, 'train': score_train}\n",
    "for model in models:\n",
    "    scores_accuracy{[model][train]} = accuracy_score(model.predict(X_test), y_test)\n",
    "    scores_accuracy{[model][test]} = accuracy(model.predict(X_train), y_train)\n",
    "    idem for recall, auc...\n",
    "    features_importances[model] = features_importanes"
   ]
  },
  {
   "cell_type": "markdown",
   "metadata": {},
   "source": [
    "Ainsi, on pourra les capitalizer facilement"
   ]
  },
  {
   "cell_type": "markdown",
   "metadata": {},
   "source": [
    "# Elementary Pipelines"
   ]
  },
  {
   "cell_type": "markdown",
   "metadata": {},
   "source": [
    "Elementary Pipelines are Pipelines that only do a little processing, such as adding / removing a single feature"
   ]
  },
  {
   "cell_type": "markdown",
   "metadata": {},
   "source": [
    "## Elementary Transformers from Packages"
   ]
  },
  {
   "cell_type": "code",
   "execution_count": 21,
   "metadata": {},
   "outputs": [],
   "source": [
    "from sklearn.preprocessing import StandardScaler"
   ]
  },
  {
   "cell_type": "markdown",
   "metadata": {},
   "source": [
    "## Custom Transformers"
   ]
  },
  {
   "cell_type": "code",
   "execution_count": 22,
   "metadata": {},
   "outputs": [],
   "source": [
    "# Gather data by age group\n",
    "from dataprep.pipelines import AgeBinAdder\n",
    "# Gender x Marriage new category\n",
    "from dataprep.pipelines import GenderXMarriageAdder\n",
    "# Gender x AgeBin new category\n",
    "from dataprep.pipelines import GenderXAgeBinAdder\n",
    "# Predict next month's bill statement\n",
    "from dataprep.pipelines import NextBillAdder\n",
    "# Get_dummies to Df\n",
    "from dataprep.pipelines import CategoricalWarrior\n",
    "# Drop a column\n",
    "from dataprep.pipelines import ColumnDropper\n"
   ]
  },
  {
   "cell_type": "markdown",
   "metadata": {},
   "source": [
    "# Complex Pipelines"
   ]
  },
  {
   "cell_type": "markdown",
   "metadata": {},
   "source": [
    "Complex Pipelines are combinations of multiple Elementary Pipelines"
   ]
  },
  {
   "cell_type": "markdown",
   "metadata": {},
   "source": [
    "We will define them, and check that they work well below"
   ]
  },
  {
   "cell_type": "markdown",
   "metadata": {},
   "source": [
    "## Helper function"
   ]
  },
  {
   "cell_type": "code",
   "execution_count": 60,
   "metadata": {},
   "outputs": [],
   "source": [
    "def show_pipe_result(pipeline, df):\n",
    "    result = pipeline.fit_transform(df)\n",
    "    print(\"Shape: \", result.shape)\n",
    "    if isinstance(result, pd.DataFrame):\n",
    "        # We're using display, because the df doesn't show by itself when it's encapsulated in a function\n",
    "        display(result.head())\n",
    "    elif isinstance(result, np.ndarray):\n",
    "        print(result[:5])"
   ]
  },
  {
   "cell_type": "markdown",
   "metadata": {},
   "source": [
    "## Defining our Pipelines"
   ]
  },
  {
   "cell_type": "markdown",
   "metadata": {},
   "source": [
    "### With our 4 engineered features"
   ]
  },
  {
   "cell_type": "markdown",
   "metadata": {},
   "source": [
    "First, let's add our 4 feature engineering Elementary Pipelines:"
   ]
  },
  {
   "cell_type": "code",
   "execution_count": 61,
   "metadata": {},
   "outputs": [],
   "source": [
    "complex_pipe1 = Pipeline([\n",
    "    (\"age_bin\", AgeBinAdder()),\n",
    "    (\"gender_age_bin\", GenderXAgeBinAdder()),\n",
    "    (\"gender_marriage\", GenderXMarriageAdder()),\n",
    "    (\"next_bill\", NextBillAdder())\n",
    "])"
   ]
  },
  {
   "cell_type": "code",
   "execution_count": 62,
   "metadata": {},
   "outputs": [
    {
     "name": "stdout",
     "output_type": "stream",
     "text": [
      "Shape:  (30000, 27)\n"
     ]
    },
    {
     "data": {
      "text/html": [
       "<div>\n",
       "<style scoped>\n",
       "    .dataframe tbody tr th:only-of-type {\n",
       "        vertical-align: middle;\n",
       "    }\n",
       "\n",
       "    .dataframe tbody tr th {\n",
       "        vertical-align: top;\n",
       "    }\n",
       "\n",
       "    .dataframe thead th {\n",
       "        text-align: right;\n",
       "    }\n",
       "</style>\n",
       "<table border=\"1\" class=\"dataframe\">\n",
       "  <thead>\n",
       "    <tr style=\"text-align: right;\">\n",
       "      <th></th>\n",
       "      <th>limit_bal</th>\n",
       "      <th>gender</th>\n",
       "      <th>education</th>\n",
       "      <th>marriage</th>\n",
       "      <th>age</th>\n",
       "      <th>pay_1</th>\n",
       "      <th>pay_2</th>\n",
       "      <th>pay_3</th>\n",
       "      <th>pay_4</th>\n",
       "      <th>pay_5</th>\n",
       "      <th>pay_6</th>\n",
       "      <th>bill_amt1</th>\n",
       "      <th>bill_amt2</th>\n",
       "      <th>bill_amt3</th>\n",
       "      <th>bill_amt4</th>\n",
       "      <th>bill_amt5</th>\n",
       "      <th>bill_amt6</th>\n",
       "      <th>pay_amt1</th>\n",
       "      <th>pay_amt2</th>\n",
       "      <th>pay_amt3</th>\n",
       "      <th>pay_amt4</th>\n",
       "      <th>pay_amt5</th>\n",
       "      <th>pay_amt6</th>\n",
       "      <th>age_bin</th>\n",
       "      <th>gen_ageBin</th>\n",
       "      <th>gen_mar</th>\n",
       "      <th>pred_bill_amt0</th>\n",
       "    </tr>\n",
       "  </thead>\n",
       "  <tbody>\n",
       "    <tr>\n",
       "      <th>0</th>\n",
       "      <td>20000.0</td>\n",
       "      <td>2</td>\n",
       "      <td>2</td>\n",
       "      <td>1</td>\n",
       "      <td>24</td>\n",
       "      <td>1</td>\n",
       "      <td>1</td>\n",
       "      <td>0</td>\n",
       "      <td>0</td>\n",
       "      <td>0</td>\n",
       "      <td>0</td>\n",
       "      <td>3913.0</td>\n",
       "      <td>3102.0</td>\n",
       "      <td>689.0</td>\n",
       "      <td>0.0</td>\n",
       "      <td>0.0</td>\n",
       "      <td>0.0</td>\n",
       "      <td>0.0</td>\n",
       "      <td>689.0</td>\n",
       "      <td>0.0</td>\n",
       "      <td>0.0</td>\n",
       "      <td>0.0</td>\n",
       "      <td>0.0</td>\n",
       "      <td>20s</td>\n",
       "      <td>(2, 20s)</td>\n",
       "      <td>(2, 1)</td>\n",
       "      <td>3909.683795</td>\n",
       "    </tr>\n",
       "    <tr>\n",
       "      <th>1</th>\n",
       "      <td>120000.0</td>\n",
       "      <td>2</td>\n",
       "      <td>2</td>\n",
       "      <td>2</td>\n",
       "      <td>26</td>\n",
       "      <td>0</td>\n",
       "      <td>1</td>\n",
       "      <td>0</td>\n",
       "      <td>0</td>\n",
       "      <td>0</td>\n",
       "      <td>1</td>\n",
       "      <td>2682.0</td>\n",
       "      <td>1725.0</td>\n",
       "      <td>2682.0</td>\n",
       "      <td>3272.0</td>\n",
       "      <td>3455.0</td>\n",
       "      <td>3261.0</td>\n",
       "      <td>0.0</td>\n",
       "      <td>1000.0</td>\n",
       "      <td>1000.0</td>\n",
       "      <td>1000.0</td>\n",
       "      <td>0.0</td>\n",
       "      <td>2000.0</td>\n",
       "      <td>20s</td>\n",
       "      <td>(2, 20s)</td>\n",
       "      <td>(2, 2)</td>\n",
       "      <td>2678.148995</td>\n",
       "    </tr>\n",
       "    <tr>\n",
       "      <th>2</th>\n",
       "      <td>90000.0</td>\n",
       "      <td>2</td>\n",
       "      <td>2</td>\n",
       "      <td>2</td>\n",
       "      <td>34</td>\n",
       "      <td>0</td>\n",
       "      <td>0</td>\n",
       "      <td>0</td>\n",
       "      <td>0</td>\n",
       "      <td>0</td>\n",
       "      <td>0</td>\n",
       "      <td>29239.0</td>\n",
       "      <td>14027.0</td>\n",
       "      <td>13559.0</td>\n",
       "      <td>14331.0</td>\n",
       "      <td>14948.0</td>\n",
       "      <td>15549.0</td>\n",
       "      <td>1518.0</td>\n",
       "      <td>1500.0</td>\n",
       "      <td>1000.0</td>\n",
       "      <td>1000.0</td>\n",
       "      <td>1000.0</td>\n",
       "      <td>5000.0</td>\n",
       "      <td>30s</td>\n",
       "      <td>(2, 30s)</td>\n",
       "      <td>(2, 2)</td>\n",
       "      <td>29177.529785</td>\n",
       "    </tr>\n",
       "    <tr>\n",
       "      <th>3</th>\n",
       "      <td>50000.0</td>\n",
       "      <td>2</td>\n",
       "      <td>2</td>\n",
       "      <td>1</td>\n",
       "      <td>37</td>\n",
       "      <td>0</td>\n",
       "      <td>0</td>\n",
       "      <td>0</td>\n",
       "      <td>0</td>\n",
       "      <td>0</td>\n",
       "      <td>0</td>\n",
       "      <td>46990.0</td>\n",
       "      <td>48233.0</td>\n",
       "      <td>49291.0</td>\n",
       "      <td>28314.0</td>\n",
       "      <td>28959.0</td>\n",
       "      <td>29547.0</td>\n",
       "      <td>2000.0</td>\n",
       "      <td>2019.0</td>\n",
       "      <td>1200.0</td>\n",
       "      <td>1100.0</td>\n",
       "      <td>1069.0</td>\n",
       "      <td>1000.0</td>\n",
       "      <td>30s</td>\n",
       "      <td>(2, 30s)</td>\n",
       "      <td>(2, 1)</td>\n",
       "      <td>46995.038110</td>\n",
       "    </tr>\n",
       "    <tr>\n",
       "      <th>4</th>\n",
       "      <td>50000.0</td>\n",
       "      <td>1</td>\n",
       "      <td>2</td>\n",
       "      <td>1</td>\n",
       "      <td>57</td>\n",
       "      <td>0</td>\n",
       "      <td>0</td>\n",
       "      <td>0</td>\n",
       "      <td>0</td>\n",
       "      <td>0</td>\n",
       "      <td>0</td>\n",
       "      <td>8617.0</td>\n",
       "      <td>5670.0</td>\n",
       "      <td>35835.0</td>\n",
       "      <td>20940.0</td>\n",
       "      <td>19146.0</td>\n",
       "      <td>19131.0</td>\n",
       "      <td>2000.0</td>\n",
       "      <td>36681.0</td>\n",
       "      <td>10000.0</td>\n",
       "      <td>9000.0</td>\n",
       "      <td>689.0</td>\n",
       "      <td>679.0</td>\n",
       "      <td>50s</td>\n",
       "      <td>(1, 50s)</td>\n",
       "      <td>(1, 1)</td>\n",
       "      <td>8605.584386</td>\n",
       "    </tr>\n",
       "  </tbody>\n",
       "</table>\n",
       "</div>"
      ],
      "text/plain": [
       "   limit_bal  gender  education  marriage  age  pay_1  pay_2  pay_3  pay_4  \\\n",
       "0    20000.0       2          2         1   24      1      1      0      0   \n",
       "1   120000.0       2          2         2   26      0      1      0      0   \n",
       "2    90000.0       2          2         2   34      0      0      0      0   \n",
       "3    50000.0       2          2         1   37      0      0      0      0   \n",
       "4    50000.0       1          2         1   57      0      0      0      0   \n",
       "\n",
       "   pay_5  pay_6  bill_amt1  bill_amt2  bill_amt3  bill_amt4  bill_amt5  \\\n",
       "0      0      0     3913.0     3102.0      689.0        0.0        0.0   \n",
       "1      0      1     2682.0     1725.0     2682.0     3272.0     3455.0   \n",
       "2      0      0    29239.0    14027.0    13559.0    14331.0    14948.0   \n",
       "3      0      0    46990.0    48233.0    49291.0    28314.0    28959.0   \n",
       "4      0      0     8617.0     5670.0    35835.0    20940.0    19146.0   \n",
       "\n",
       "   bill_amt6  pay_amt1  pay_amt2  pay_amt3  pay_amt4  pay_amt5  pay_amt6  \\\n",
       "0        0.0       0.0     689.0       0.0       0.0       0.0       0.0   \n",
       "1     3261.0       0.0    1000.0    1000.0    1000.0       0.0    2000.0   \n",
       "2    15549.0    1518.0    1500.0    1000.0    1000.0    1000.0    5000.0   \n",
       "3    29547.0    2000.0    2019.0    1200.0    1100.0    1069.0    1000.0   \n",
       "4    19131.0    2000.0   36681.0   10000.0    9000.0     689.0     679.0   \n",
       "\n",
       "  age_bin gen_ageBin gen_mar  pred_bill_amt0  \n",
       "0     20s   (2, 20s)  (2, 1)     3909.683795  \n",
       "1     20s   (2, 20s)  (2, 2)     2678.148995  \n",
       "2     30s   (2, 30s)  (2, 2)    29177.529785  \n",
       "3     30s   (2, 30s)  (2, 1)    46995.038110  \n",
       "4     50s   (1, 50s)  (1, 1)     8605.584386  "
      ]
     },
     "metadata": {},
     "output_type": "display_data"
    }
   ],
   "source": [
    "show_pipe_result(complex_pipe1, X_raw)"
   ]
  },
  {
   "cell_type": "markdown",
   "metadata": {},
   "source": [
    "### With our 4 engineered features, but whithout 'age'"
   ]
  },
  {
   "cell_type": "markdown",
   "metadata": {},
   "source": [
    "Let's remove the 'age' feature:"
   ]
  },
  {
   "cell_type": "code",
   "execution_count": 63,
   "metadata": {},
   "outputs": [],
   "source": [
    "complex_pipe2 = Pipeline([\n",
    "    (\"age_bin\", AgeBinAdder()),\n",
    "    (\"gender_age_bin\", GenderXAgeBinAdder()),\n",
    "    (\"gender_marriage\", GenderXMarriageAdder()),\n",
    "    (\"next_bill\", NextBillAdder()),\n",
    "    (\"age_remove\", ColumnDropper('age'))\n",
    "])"
   ]
  },
  {
   "cell_type": "code",
   "execution_count": 64,
   "metadata": {},
   "outputs": [
    {
     "name": "stdout",
     "output_type": "stream",
     "text": [
      "Shape:  (30000, 26)\n"
     ]
    },
    {
     "data": {
      "text/html": [
       "<div>\n",
       "<style scoped>\n",
       "    .dataframe tbody tr th:only-of-type {\n",
       "        vertical-align: middle;\n",
       "    }\n",
       "\n",
       "    .dataframe tbody tr th {\n",
       "        vertical-align: top;\n",
       "    }\n",
       "\n",
       "    .dataframe thead th {\n",
       "        text-align: right;\n",
       "    }\n",
       "</style>\n",
       "<table border=\"1\" class=\"dataframe\">\n",
       "  <thead>\n",
       "    <tr style=\"text-align: right;\">\n",
       "      <th></th>\n",
       "      <th>limit_bal</th>\n",
       "      <th>gender</th>\n",
       "      <th>education</th>\n",
       "      <th>marriage</th>\n",
       "      <th>pay_1</th>\n",
       "      <th>pay_2</th>\n",
       "      <th>pay_3</th>\n",
       "      <th>pay_4</th>\n",
       "      <th>pay_5</th>\n",
       "      <th>pay_6</th>\n",
       "      <th>bill_amt1</th>\n",
       "      <th>bill_amt2</th>\n",
       "      <th>bill_amt3</th>\n",
       "      <th>bill_amt4</th>\n",
       "      <th>bill_amt5</th>\n",
       "      <th>bill_amt6</th>\n",
       "      <th>pay_amt1</th>\n",
       "      <th>pay_amt2</th>\n",
       "      <th>pay_amt3</th>\n",
       "      <th>pay_amt4</th>\n",
       "      <th>pay_amt5</th>\n",
       "      <th>pay_amt6</th>\n",
       "      <th>age_bin</th>\n",
       "      <th>gen_ageBin</th>\n",
       "      <th>gen_mar</th>\n",
       "      <th>pred_bill_amt0</th>\n",
       "    </tr>\n",
       "  </thead>\n",
       "  <tbody>\n",
       "    <tr>\n",
       "      <th>0</th>\n",
       "      <td>20000.0</td>\n",
       "      <td>2</td>\n",
       "      <td>2</td>\n",
       "      <td>1</td>\n",
       "      <td>1</td>\n",
       "      <td>1</td>\n",
       "      <td>0</td>\n",
       "      <td>0</td>\n",
       "      <td>0</td>\n",
       "      <td>0</td>\n",
       "      <td>3913.0</td>\n",
       "      <td>3102.0</td>\n",
       "      <td>689.0</td>\n",
       "      <td>0.0</td>\n",
       "      <td>0.0</td>\n",
       "      <td>0.0</td>\n",
       "      <td>0.0</td>\n",
       "      <td>689.0</td>\n",
       "      <td>0.0</td>\n",
       "      <td>0.0</td>\n",
       "      <td>0.0</td>\n",
       "      <td>0.0</td>\n",
       "      <td>20s</td>\n",
       "      <td>(2, 20s)</td>\n",
       "      <td>(2, 1)</td>\n",
       "      <td>3909.683795</td>\n",
       "    </tr>\n",
       "    <tr>\n",
       "      <th>1</th>\n",
       "      <td>120000.0</td>\n",
       "      <td>2</td>\n",
       "      <td>2</td>\n",
       "      <td>2</td>\n",
       "      <td>0</td>\n",
       "      <td>1</td>\n",
       "      <td>0</td>\n",
       "      <td>0</td>\n",
       "      <td>0</td>\n",
       "      <td>1</td>\n",
       "      <td>2682.0</td>\n",
       "      <td>1725.0</td>\n",
       "      <td>2682.0</td>\n",
       "      <td>3272.0</td>\n",
       "      <td>3455.0</td>\n",
       "      <td>3261.0</td>\n",
       "      <td>0.0</td>\n",
       "      <td>1000.0</td>\n",
       "      <td>1000.0</td>\n",
       "      <td>1000.0</td>\n",
       "      <td>0.0</td>\n",
       "      <td>2000.0</td>\n",
       "      <td>20s</td>\n",
       "      <td>(2, 20s)</td>\n",
       "      <td>(2, 2)</td>\n",
       "      <td>2678.148995</td>\n",
       "    </tr>\n",
       "    <tr>\n",
       "      <th>2</th>\n",
       "      <td>90000.0</td>\n",
       "      <td>2</td>\n",
       "      <td>2</td>\n",
       "      <td>2</td>\n",
       "      <td>0</td>\n",
       "      <td>0</td>\n",
       "      <td>0</td>\n",
       "      <td>0</td>\n",
       "      <td>0</td>\n",
       "      <td>0</td>\n",
       "      <td>29239.0</td>\n",
       "      <td>14027.0</td>\n",
       "      <td>13559.0</td>\n",
       "      <td>14331.0</td>\n",
       "      <td>14948.0</td>\n",
       "      <td>15549.0</td>\n",
       "      <td>1518.0</td>\n",
       "      <td>1500.0</td>\n",
       "      <td>1000.0</td>\n",
       "      <td>1000.0</td>\n",
       "      <td>1000.0</td>\n",
       "      <td>5000.0</td>\n",
       "      <td>30s</td>\n",
       "      <td>(2, 30s)</td>\n",
       "      <td>(2, 2)</td>\n",
       "      <td>29177.529785</td>\n",
       "    </tr>\n",
       "    <tr>\n",
       "      <th>3</th>\n",
       "      <td>50000.0</td>\n",
       "      <td>2</td>\n",
       "      <td>2</td>\n",
       "      <td>1</td>\n",
       "      <td>0</td>\n",
       "      <td>0</td>\n",
       "      <td>0</td>\n",
       "      <td>0</td>\n",
       "      <td>0</td>\n",
       "      <td>0</td>\n",
       "      <td>46990.0</td>\n",
       "      <td>48233.0</td>\n",
       "      <td>49291.0</td>\n",
       "      <td>28314.0</td>\n",
       "      <td>28959.0</td>\n",
       "      <td>29547.0</td>\n",
       "      <td>2000.0</td>\n",
       "      <td>2019.0</td>\n",
       "      <td>1200.0</td>\n",
       "      <td>1100.0</td>\n",
       "      <td>1069.0</td>\n",
       "      <td>1000.0</td>\n",
       "      <td>30s</td>\n",
       "      <td>(2, 30s)</td>\n",
       "      <td>(2, 1)</td>\n",
       "      <td>46995.038110</td>\n",
       "    </tr>\n",
       "    <tr>\n",
       "      <th>4</th>\n",
       "      <td>50000.0</td>\n",
       "      <td>1</td>\n",
       "      <td>2</td>\n",
       "      <td>1</td>\n",
       "      <td>0</td>\n",
       "      <td>0</td>\n",
       "      <td>0</td>\n",
       "      <td>0</td>\n",
       "      <td>0</td>\n",
       "      <td>0</td>\n",
       "      <td>8617.0</td>\n",
       "      <td>5670.0</td>\n",
       "      <td>35835.0</td>\n",
       "      <td>20940.0</td>\n",
       "      <td>19146.0</td>\n",
       "      <td>19131.0</td>\n",
       "      <td>2000.0</td>\n",
       "      <td>36681.0</td>\n",
       "      <td>10000.0</td>\n",
       "      <td>9000.0</td>\n",
       "      <td>689.0</td>\n",
       "      <td>679.0</td>\n",
       "      <td>50s</td>\n",
       "      <td>(1, 50s)</td>\n",
       "      <td>(1, 1)</td>\n",
       "      <td>8605.584386</td>\n",
       "    </tr>\n",
       "  </tbody>\n",
       "</table>\n",
       "</div>"
      ],
      "text/plain": [
       "   limit_bal  gender  education  marriage  pay_1  pay_2  pay_3  pay_4  pay_5  \\\n",
       "0    20000.0       2          2         1      1      1      0      0      0   \n",
       "1   120000.0       2          2         2      0      1      0      0      0   \n",
       "2    90000.0       2          2         2      0      0      0      0      0   \n",
       "3    50000.0       2          2         1      0      0      0      0      0   \n",
       "4    50000.0       1          2         1      0      0      0      0      0   \n",
       "\n",
       "   pay_6  bill_amt1  bill_amt2  bill_amt3  bill_amt4  bill_amt5  bill_amt6  \\\n",
       "0      0     3913.0     3102.0      689.0        0.0        0.0        0.0   \n",
       "1      1     2682.0     1725.0     2682.0     3272.0     3455.0     3261.0   \n",
       "2      0    29239.0    14027.0    13559.0    14331.0    14948.0    15549.0   \n",
       "3      0    46990.0    48233.0    49291.0    28314.0    28959.0    29547.0   \n",
       "4      0     8617.0     5670.0    35835.0    20940.0    19146.0    19131.0   \n",
       "\n",
       "   pay_amt1  pay_amt2  pay_amt3  pay_amt4  pay_amt5  pay_amt6 age_bin  \\\n",
       "0       0.0     689.0       0.0       0.0       0.0       0.0     20s   \n",
       "1       0.0    1000.0    1000.0    1000.0       0.0    2000.0     20s   \n",
       "2    1518.0    1500.0    1000.0    1000.0    1000.0    5000.0     30s   \n",
       "3    2000.0    2019.0    1200.0    1100.0    1069.0    1000.0     30s   \n",
       "4    2000.0   36681.0   10000.0    9000.0     689.0     679.0     50s   \n",
       "\n",
       "  gen_ageBin gen_mar  pred_bill_amt0  \n",
       "0   (2, 20s)  (2, 1)     3909.683795  \n",
       "1   (2, 20s)  (2, 2)     2678.148995  \n",
       "2   (2, 30s)  (2, 2)    29177.529785  \n",
       "3   (2, 30s)  (2, 1)    46995.038110  \n",
       "4   (1, 50s)  (1, 1)     8605.584386  "
      ]
     },
     "metadata": {},
     "output_type": "display_data"
    }
   ],
   "source": [
    "show_pipe_result(complex_pipe2, X_raw)"
   ]
  },
  {
   "cell_type": "markdown",
   "metadata": {},
   "source": [
    "### One-hot encoding"
   ]
  },
  {
   "cell_type": "markdown",
   "metadata": {},
   "source": [
    "Let's add a CategoricalWarrior to 1-hot encode our categorical features:"
   ]
  },
  {
   "cell_type": "code",
   "execution_count": 65,
   "metadata": {},
   "outputs": [],
   "source": [
    "# Pipeline with 1-hot encoded\n",
    "complex_pipe3 = Pipeline([\n",
    "    (\"age_bin\", AgeBinAdder()),\n",
    "    (\"gender_age_bin\", GenderXAgeBinAdder()),\n",
    "    (\"gender_marriage\", GenderXMarriageAdder()),\n",
    "    (\"next_bill\", NextBillAdder()),\n",
    "    (\"age_remove\", ColumnDropper('age')),\n",
    "    (\"1_hot\", CategoricalWarrior(['gender', 'education', 'marriage']))\n",
    "])"
   ]
  },
  {
   "cell_type": "code",
   "execution_count": 66,
   "metadata": {},
   "outputs": [
    {
     "name": "stdout",
     "output_type": "stream",
     "text": [
      "Shape:  (30000, 50)\n"
     ]
    },
    {
     "data": {
      "text/html": [
       "<div>\n",
       "<style scoped>\n",
       "    .dataframe tbody tr th:only-of-type {\n",
       "        vertical-align: middle;\n",
       "    }\n",
       "\n",
       "    .dataframe tbody tr th {\n",
       "        vertical-align: top;\n",
       "    }\n",
       "\n",
       "    .dataframe thead th {\n",
       "        text-align: right;\n",
       "    }\n",
       "</style>\n",
       "<table border=\"1\" class=\"dataframe\">\n",
       "  <thead>\n",
       "    <tr style=\"text-align: right;\">\n",
       "      <th></th>\n",
       "      <th>limit_bal</th>\n",
       "      <th>pay_1</th>\n",
       "      <th>pay_2</th>\n",
       "      <th>pay_3</th>\n",
       "      <th>pay_4</th>\n",
       "      <th>pay_5</th>\n",
       "      <th>pay_6</th>\n",
       "      <th>bill_amt1</th>\n",
       "      <th>bill_amt2</th>\n",
       "      <th>bill_amt3</th>\n",
       "      <th>bill_amt4</th>\n",
       "      <th>bill_amt5</th>\n",
       "      <th>bill_amt6</th>\n",
       "      <th>pay_amt1</th>\n",
       "      <th>pay_amt2</th>\n",
       "      <th>pay_amt3</th>\n",
       "      <th>pay_amt4</th>\n",
       "      <th>pay_amt5</th>\n",
       "      <th>pay_amt6</th>\n",
       "      <th>pred_bill_amt0</th>\n",
       "      <th>gender_2</th>\n",
       "      <th>gender_1</th>\n",
       "      <th>education_2</th>\n",
       "      <th>education_1</th>\n",
       "      <th>education_3</th>\n",
       "      <th>education_4</th>\n",
       "      <th>marriage_1</th>\n",
       "      <th>marriage_2</th>\n",
       "      <th>marriage_3</th>\n",
       "      <th>age_bin_20s</th>\n",
       "      <th>age_bin_30s</th>\n",
       "      <th>age_bin_40s</th>\n",
       "      <th>age_bin_50s</th>\n",
       "      <th>age_bin_60+</th>\n",
       "      <th>gen_ageBin_(1, '20s')</th>\n",
       "      <th>gen_ageBin_(1, '30s')</th>\n",
       "      <th>gen_ageBin_(1, '40s')</th>\n",
       "      <th>gen_ageBin_(1, '50s')</th>\n",
       "      <th>gen_ageBin_(1, '60+')</th>\n",
       "      <th>gen_ageBin_(2, '20s')</th>\n",
       "      <th>gen_ageBin_(2, '30s')</th>\n",
       "      <th>gen_ageBin_(2, '40s')</th>\n",
       "      <th>gen_ageBin_(2, '50s')</th>\n",
       "      <th>gen_ageBin_(2, '60+')</th>\n",
       "      <th>gen_mar_(1, 1)</th>\n",
       "      <th>gen_mar_(1, 2)</th>\n",
       "      <th>gen_mar_(1, 3)</th>\n",
       "      <th>gen_mar_(2, 1)</th>\n",
       "      <th>gen_mar_(2, 2)</th>\n",
       "      <th>gen_mar_(2, 3)</th>\n",
       "    </tr>\n",
       "  </thead>\n",
       "  <tbody>\n",
       "    <tr>\n",
       "      <th>0</th>\n",
       "      <td>20000.0</td>\n",
       "      <td>1</td>\n",
       "      <td>1</td>\n",
       "      <td>0</td>\n",
       "      <td>0</td>\n",
       "      <td>0</td>\n",
       "      <td>0</td>\n",
       "      <td>3913.0</td>\n",
       "      <td>3102.0</td>\n",
       "      <td>689.0</td>\n",
       "      <td>0.0</td>\n",
       "      <td>0.0</td>\n",
       "      <td>0.0</td>\n",
       "      <td>0.0</td>\n",
       "      <td>689.0</td>\n",
       "      <td>0.0</td>\n",
       "      <td>0.0</td>\n",
       "      <td>0.0</td>\n",
       "      <td>0.0</td>\n",
       "      <td>3909.683795</td>\n",
       "      <td>1</td>\n",
       "      <td>0</td>\n",
       "      <td>1</td>\n",
       "      <td>0</td>\n",
       "      <td>0</td>\n",
       "      <td>0</td>\n",
       "      <td>1</td>\n",
       "      <td>0</td>\n",
       "      <td>0</td>\n",
       "      <td>1</td>\n",
       "      <td>0</td>\n",
       "      <td>0</td>\n",
       "      <td>0</td>\n",
       "      <td>0</td>\n",
       "      <td>0</td>\n",
       "      <td>0</td>\n",
       "      <td>0</td>\n",
       "      <td>0</td>\n",
       "      <td>0</td>\n",
       "      <td>1</td>\n",
       "      <td>0</td>\n",
       "      <td>0</td>\n",
       "      <td>0</td>\n",
       "      <td>0</td>\n",
       "      <td>0</td>\n",
       "      <td>0</td>\n",
       "      <td>0</td>\n",
       "      <td>1</td>\n",
       "      <td>0</td>\n",
       "      <td>0</td>\n",
       "    </tr>\n",
       "    <tr>\n",
       "      <th>1</th>\n",
       "      <td>120000.0</td>\n",
       "      <td>0</td>\n",
       "      <td>1</td>\n",
       "      <td>0</td>\n",
       "      <td>0</td>\n",
       "      <td>0</td>\n",
       "      <td>1</td>\n",
       "      <td>2682.0</td>\n",
       "      <td>1725.0</td>\n",
       "      <td>2682.0</td>\n",
       "      <td>3272.0</td>\n",
       "      <td>3455.0</td>\n",
       "      <td>3261.0</td>\n",
       "      <td>0.0</td>\n",
       "      <td>1000.0</td>\n",
       "      <td>1000.0</td>\n",
       "      <td>1000.0</td>\n",
       "      <td>0.0</td>\n",
       "      <td>2000.0</td>\n",
       "      <td>2678.148995</td>\n",
       "      <td>1</td>\n",
       "      <td>0</td>\n",
       "      <td>1</td>\n",
       "      <td>0</td>\n",
       "      <td>0</td>\n",
       "      <td>0</td>\n",
       "      <td>0</td>\n",
       "      <td>1</td>\n",
       "      <td>0</td>\n",
       "      <td>1</td>\n",
       "      <td>0</td>\n",
       "      <td>0</td>\n",
       "      <td>0</td>\n",
       "      <td>0</td>\n",
       "      <td>0</td>\n",
       "      <td>0</td>\n",
       "      <td>0</td>\n",
       "      <td>0</td>\n",
       "      <td>0</td>\n",
       "      <td>1</td>\n",
       "      <td>0</td>\n",
       "      <td>0</td>\n",
       "      <td>0</td>\n",
       "      <td>0</td>\n",
       "      <td>0</td>\n",
       "      <td>0</td>\n",
       "      <td>0</td>\n",
       "      <td>0</td>\n",
       "      <td>1</td>\n",
       "      <td>0</td>\n",
       "    </tr>\n",
       "    <tr>\n",
       "      <th>2</th>\n",
       "      <td>90000.0</td>\n",
       "      <td>0</td>\n",
       "      <td>0</td>\n",
       "      <td>0</td>\n",
       "      <td>0</td>\n",
       "      <td>0</td>\n",
       "      <td>0</td>\n",
       "      <td>29239.0</td>\n",
       "      <td>14027.0</td>\n",
       "      <td>13559.0</td>\n",
       "      <td>14331.0</td>\n",
       "      <td>14948.0</td>\n",
       "      <td>15549.0</td>\n",
       "      <td>1518.0</td>\n",
       "      <td>1500.0</td>\n",
       "      <td>1000.0</td>\n",
       "      <td>1000.0</td>\n",
       "      <td>1000.0</td>\n",
       "      <td>5000.0</td>\n",
       "      <td>29177.529785</td>\n",
       "      <td>1</td>\n",
       "      <td>0</td>\n",
       "      <td>1</td>\n",
       "      <td>0</td>\n",
       "      <td>0</td>\n",
       "      <td>0</td>\n",
       "      <td>0</td>\n",
       "      <td>1</td>\n",
       "      <td>0</td>\n",
       "      <td>0</td>\n",
       "      <td>1</td>\n",
       "      <td>0</td>\n",
       "      <td>0</td>\n",
       "      <td>0</td>\n",
       "      <td>0</td>\n",
       "      <td>0</td>\n",
       "      <td>0</td>\n",
       "      <td>0</td>\n",
       "      <td>0</td>\n",
       "      <td>0</td>\n",
       "      <td>1</td>\n",
       "      <td>0</td>\n",
       "      <td>0</td>\n",
       "      <td>0</td>\n",
       "      <td>0</td>\n",
       "      <td>0</td>\n",
       "      <td>0</td>\n",
       "      <td>0</td>\n",
       "      <td>1</td>\n",
       "      <td>0</td>\n",
       "    </tr>\n",
       "    <tr>\n",
       "      <th>3</th>\n",
       "      <td>50000.0</td>\n",
       "      <td>0</td>\n",
       "      <td>0</td>\n",
       "      <td>0</td>\n",
       "      <td>0</td>\n",
       "      <td>0</td>\n",
       "      <td>0</td>\n",
       "      <td>46990.0</td>\n",
       "      <td>48233.0</td>\n",
       "      <td>49291.0</td>\n",
       "      <td>28314.0</td>\n",
       "      <td>28959.0</td>\n",
       "      <td>29547.0</td>\n",
       "      <td>2000.0</td>\n",
       "      <td>2019.0</td>\n",
       "      <td>1200.0</td>\n",
       "      <td>1100.0</td>\n",
       "      <td>1069.0</td>\n",
       "      <td>1000.0</td>\n",
       "      <td>46995.038110</td>\n",
       "      <td>1</td>\n",
       "      <td>0</td>\n",
       "      <td>1</td>\n",
       "      <td>0</td>\n",
       "      <td>0</td>\n",
       "      <td>0</td>\n",
       "      <td>1</td>\n",
       "      <td>0</td>\n",
       "      <td>0</td>\n",
       "      <td>0</td>\n",
       "      <td>1</td>\n",
       "      <td>0</td>\n",
       "      <td>0</td>\n",
       "      <td>0</td>\n",
       "      <td>0</td>\n",
       "      <td>0</td>\n",
       "      <td>0</td>\n",
       "      <td>0</td>\n",
       "      <td>0</td>\n",
       "      <td>0</td>\n",
       "      <td>1</td>\n",
       "      <td>0</td>\n",
       "      <td>0</td>\n",
       "      <td>0</td>\n",
       "      <td>0</td>\n",
       "      <td>0</td>\n",
       "      <td>0</td>\n",
       "      <td>1</td>\n",
       "      <td>0</td>\n",
       "      <td>0</td>\n",
       "    </tr>\n",
       "    <tr>\n",
       "      <th>4</th>\n",
       "      <td>50000.0</td>\n",
       "      <td>0</td>\n",
       "      <td>0</td>\n",
       "      <td>0</td>\n",
       "      <td>0</td>\n",
       "      <td>0</td>\n",
       "      <td>0</td>\n",
       "      <td>8617.0</td>\n",
       "      <td>5670.0</td>\n",
       "      <td>35835.0</td>\n",
       "      <td>20940.0</td>\n",
       "      <td>19146.0</td>\n",
       "      <td>19131.0</td>\n",
       "      <td>2000.0</td>\n",
       "      <td>36681.0</td>\n",
       "      <td>10000.0</td>\n",
       "      <td>9000.0</td>\n",
       "      <td>689.0</td>\n",
       "      <td>679.0</td>\n",
       "      <td>8605.584386</td>\n",
       "      <td>0</td>\n",
       "      <td>1</td>\n",
       "      <td>1</td>\n",
       "      <td>0</td>\n",
       "      <td>0</td>\n",
       "      <td>0</td>\n",
       "      <td>1</td>\n",
       "      <td>0</td>\n",
       "      <td>0</td>\n",
       "      <td>0</td>\n",
       "      <td>0</td>\n",
       "      <td>0</td>\n",
       "      <td>1</td>\n",
       "      <td>0</td>\n",
       "      <td>0</td>\n",
       "      <td>0</td>\n",
       "      <td>0</td>\n",
       "      <td>1</td>\n",
       "      <td>0</td>\n",
       "      <td>0</td>\n",
       "      <td>0</td>\n",
       "      <td>0</td>\n",
       "      <td>0</td>\n",
       "      <td>0</td>\n",
       "      <td>1</td>\n",
       "      <td>0</td>\n",
       "      <td>0</td>\n",
       "      <td>0</td>\n",
       "      <td>0</td>\n",
       "      <td>0</td>\n",
       "    </tr>\n",
       "  </tbody>\n",
       "</table>\n",
       "</div>"
      ],
      "text/plain": [
       "   limit_bal  pay_1  pay_2  pay_3  pay_4  pay_5  pay_6  bill_amt1  bill_amt2  \\\n",
       "0    20000.0      1      1      0      0      0      0     3913.0     3102.0   \n",
       "1   120000.0      0      1      0      0      0      1     2682.0     1725.0   \n",
       "2    90000.0      0      0      0      0      0      0    29239.0    14027.0   \n",
       "3    50000.0      0      0      0      0      0      0    46990.0    48233.0   \n",
       "4    50000.0      0      0      0      0      0      0     8617.0     5670.0   \n",
       "\n",
       "   bill_amt3  bill_amt4  bill_amt5  bill_amt6  pay_amt1  pay_amt2  pay_amt3  \\\n",
       "0      689.0        0.0        0.0        0.0       0.0     689.0       0.0   \n",
       "1     2682.0     3272.0     3455.0     3261.0       0.0    1000.0    1000.0   \n",
       "2    13559.0    14331.0    14948.0    15549.0    1518.0    1500.0    1000.0   \n",
       "3    49291.0    28314.0    28959.0    29547.0    2000.0    2019.0    1200.0   \n",
       "4    35835.0    20940.0    19146.0    19131.0    2000.0   36681.0   10000.0   \n",
       "\n",
       "   pay_amt4  pay_amt5  pay_amt6  pred_bill_amt0  gender_2  gender_1  \\\n",
       "0       0.0       0.0       0.0     3909.683795         1         0   \n",
       "1    1000.0       0.0    2000.0     2678.148995         1         0   \n",
       "2    1000.0    1000.0    5000.0    29177.529785         1         0   \n",
       "3    1100.0    1069.0    1000.0    46995.038110         1         0   \n",
       "4    9000.0     689.0     679.0     8605.584386         0         1   \n",
       "\n",
       "   education_2  education_1  education_3  education_4  marriage_1  marriage_2  \\\n",
       "0            1            0            0            0           1           0   \n",
       "1            1            0            0            0           0           1   \n",
       "2            1            0            0            0           0           1   \n",
       "3            1            0            0            0           1           0   \n",
       "4            1            0            0            0           1           0   \n",
       "\n",
       "   marriage_3  age_bin_20s  age_bin_30s  age_bin_40s  age_bin_50s  \\\n",
       "0           0            1            0            0            0   \n",
       "1           0            1            0            0            0   \n",
       "2           0            0            1            0            0   \n",
       "3           0            0            1            0            0   \n",
       "4           0            0            0            0            1   \n",
       "\n",
       "   age_bin_60+  gen_ageBin_(1, '20s')  gen_ageBin_(1, '30s')  \\\n",
       "0            0                      0                      0   \n",
       "1            0                      0                      0   \n",
       "2            0                      0                      0   \n",
       "3            0                      0                      0   \n",
       "4            0                      0                      0   \n",
       "\n",
       "   gen_ageBin_(1, '40s')  gen_ageBin_(1, '50s')  gen_ageBin_(1, '60+')  \\\n",
       "0                      0                      0                      0   \n",
       "1                      0                      0                      0   \n",
       "2                      0                      0                      0   \n",
       "3                      0                      0                      0   \n",
       "4                      0                      1                      0   \n",
       "\n",
       "   gen_ageBin_(2, '20s')  gen_ageBin_(2, '30s')  gen_ageBin_(2, '40s')  \\\n",
       "0                      1                      0                      0   \n",
       "1                      1                      0                      0   \n",
       "2                      0                      1                      0   \n",
       "3                      0                      1                      0   \n",
       "4                      0                      0                      0   \n",
       "\n",
       "   gen_ageBin_(2, '50s')  gen_ageBin_(2, '60+')  gen_mar_(1, 1)  \\\n",
       "0                      0                      0               0   \n",
       "1                      0                      0               0   \n",
       "2                      0                      0               0   \n",
       "3                      0                      0               0   \n",
       "4                      0                      0               1   \n",
       "\n",
       "   gen_mar_(1, 2)  gen_mar_(1, 3)  gen_mar_(2, 1)  gen_mar_(2, 2)  \\\n",
       "0               0               0               1               0   \n",
       "1               0               0               0               1   \n",
       "2               0               0               0               1   \n",
       "3               0               0               1               0   \n",
       "4               0               0               0               0   \n",
       "\n",
       "   gen_mar_(2, 3)  \n",
       "0               0  \n",
       "1               0  \n",
       "2               0  \n",
       "3               0  \n",
       "4               0  "
      ]
     },
     "metadata": {},
     "output_type": "display_data"
    }
   ],
   "source": [
    "show_pipe_result(complex_pipe3, X_raw)"
   ]
  },
  {
   "cell_type": "markdown",
   "metadata": {},
   "source": [
    "### One-hot encoding & Scaler"
   ]
  },
  {
   "cell_type": "markdown",
   "metadata": {},
   "source": [
    "Let's add a StandardScaler to normalize our inputs:"
   ]
  },
  {
   "cell_type": "code",
   "execution_count": 70,
   "metadata": {},
   "outputs": [],
   "source": [
    "# Pipeline with 1-hot encoded\n",
    "# Pipeline with a StandardScaler\n",
    "complex_pipe4 = Pipeline([\n",
    "    (\"age_bin\", AgeBinAdder()),\n",
    "    (\"gender_age_bin\", GenderXAgeBinAdder()),\n",
    "    (\"gender_marriage\", GenderXMarriageAdder()),\n",
    "    (\"next_bill\", NextBillAdder()),\n",
    "    (\"age_remove\", ColumnDropper('age')),\n",
    "    (\"1_hot\", CategoricalWarrior(['gender', 'education', 'marriage'])),\n",
    "    (\"scaler\", StandardScaler())\n",
    "])"
   ]
  },
  {
   "cell_type": "code",
   "execution_count": 71,
   "metadata": {
    "scrolled": true
   },
   "outputs": [
    {
     "name": "stdout",
     "output_type": "stream",
     "text": [
      "Shape:  (30000, 50)\n",
      "[[-1.13672015  1.84394071  2.39995869 -0.40419908 -0.36400938 -0.33135449\n",
      "  -0.33818882 -0.64250107 -0.64739923 -0.66799331 -0.67249727 -0.66305853\n",
      "  -0.65272422 -0.34194162 -0.22708564 -0.29680127 -0.30806256 -0.31413612\n",
      "  -0.29338206 -0.64264241  0.81016074 -0.81016074  1.06689977 -0.73837457\n",
      "  -0.44275183 -0.12588573  1.09377971 -1.06647132 -0.11281222  1.31303214\n",
      "  -0.74528643 -0.5002604  -0.26221495 -0.1069072  -0.38324492 -0.41253329\n",
      "  -0.30719909 -0.17756815 -0.07747568  1.78424128 -0.51816884 -0.35858507\n",
      "  -0.18694037 -0.0732252  -0.45737276 -0.52865999 -0.0696908   1.59446883\n",
      "  -0.67608338 -0.08828139]\n",
      " [-0.3659805  -0.54231679  2.39995869 -0.40419908 -0.36400938 -0.33135449\n",
      "   2.956928   -0.65921875 -0.66674657 -0.63925429 -0.62163594 -0.60622927\n",
      "  -0.59796638 -0.34194162 -0.21358766 -0.24000461 -0.24422965 -0.31413612\n",
      "  -0.18087821 -0.65937279  0.81016074 -0.81016074  1.06689977 -0.73837457\n",
      "  -0.44275183 -0.12588573 -0.91426088  0.93767172 -0.11281222  1.31303214\n",
      "  -0.74528643 -0.5002604  -0.26221495 -0.1069072  -0.38324492 -0.41253329\n",
      "  -0.30719909 -0.17756815 -0.07747568  1.78424128 -0.51816884 -0.35858507\n",
      "  -0.18694037 -0.0732252  -0.45737276 -0.52865999 -0.0696908  -0.62716811\n",
      "   1.4791075  -0.08828139]\n",
      " [-0.59720239 -0.54231679 -0.41667384 -0.40419908 -0.36400938 -0.33135449\n",
      "  -0.33818882 -0.29855966 -0.49389911 -0.48240819 -0.44973025 -0.41718767\n",
      "  -0.39162956 -0.25029158 -0.19188673 -0.24000461 -0.24422965 -0.24868274\n",
      "  -0.01212243 -0.29937915  0.81016074 -0.81016074  1.06689977 -0.73837457\n",
      "  -0.44275183 -0.12588573 -0.91426088  0.93767172 -0.11281222 -0.76159598\n",
      "   1.34176602 -0.5002604  -0.26221495 -0.1069072  -0.38324492 -0.41253329\n",
      "  -0.30719909 -0.17756815 -0.07747568 -0.56046232  1.92987291 -0.35858507\n",
      "  -0.18694037 -0.0732252  -0.45737276 -0.52865999 -0.0696908  -0.62716811\n",
      "   1.4791075  -0.08828139]\n",
      " [-0.90549825 -0.54231679 -0.41667384 -0.40419908 -0.36400938 -0.33135449\n",
      "  -0.33818882 -0.05749103 -0.01329269  0.03284648 -0.23237268 -0.18672897\n",
      "  -0.15657889 -0.22119058 -0.16936116 -0.22864528 -0.23784635 -0.24416646\n",
      "  -0.23713013 -0.0573286   0.81016074 -0.81016074  1.06689977 -0.73837457\n",
      "  -0.44275183 -0.12588573  1.09377971 -1.06647132 -0.11281222 -0.76159598\n",
      "   1.34176602 -0.5002604  -0.26221495 -0.1069072  -0.38324492 -0.41253329\n",
      "  -0.30719909 -0.17756815 -0.07747568 -0.56046232  1.92987291 -0.35858507\n",
      "  -0.18694037 -0.0732252  -0.45737276 -0.52865999 -0.0696908   1.59446883\n",
      "  -0.67608338 -0.08828139]\n",
      " [-0.90549825 -0.54231679 -0.41667384 -0.40419908 -0.36400938 -0.33135449\n",
      "  -0.33818882 -0.57861809 -0.61131792 -0.16118875 -0.3469972  -0.34813724\n",
      "  -0.33148158 -0.22119058  1.33503416  0.27116536  0.26643369 -0.26903874\n",
      "  -0.255187   -0.57884868 -1.23432296  1.23432296  1.06689977 -0.73837457\n",
      "  -0.44275183 -0.12588573  1.09377971 -1.06647132 -0.11281222 -0.76159598\n",
      "  -0.74528643 -0.5002604   3.81366509 -0.1069072  -0.38324492 -0.41253329\n",
      "  -0.30719909  5.63164063 -0.07747568 -0.56046232 -0.51816884 -0.35858507\n",
      "  -0.18694037 -0.0732252   2.18640043 -0.52865999 -0.0696908  -0.62716811\n",
      "  -0.67608338 -0.08828139]]\n"
     ]
    }
   ],
   "source": [
    "show_pipe_result(complex_pipe4, X_raw)"
   ]
  },
  {
   "cell_type": "markdown",
   "metadata": {},
   "source": [
    "### With Next bill & Scaler"
   ]
  },
  {
   "cell_type": "code",
   "execution_count": 82,
   "metadata": {},
   "outputs": [],
   "source": [
    "# Pipeline with a StandardScaler\n",
    "complex_pipe5 = Pipeline([\n",
    "    (\"next_bill\", NextBillAdder()),\n",
    "    (\"scaler\", StandardScaler())\n",
    "])"
   ]
  },
  {
   "cell_type": "code",
   "execution_count": 83,
   "metadata": {
    "scrolled": true
   },
   "outputs": [
    {
     "name": "stdout",
     "output_type": "stream",
     "text": [
      "Shape:  (30000, 24)\n",
      "[[-1.13672015  0.81016074  0.21186989 -1.06879721 -1.24601985  1.84394071\n",
      "   2.39995869 -0.40419908 -0.36400938 -0.33135449 -0.33818882 -0.64250107\n",
      "  -0.64739923 -0.66799331 -0.67249727 -0.66305853 -0.65272422 -0.34194162\n",
      "  -0.22708564 -0.29680127 -0.30806256 -0.31413612 -0.29338206 -0.64264241]\n",
      " [-0.3659805   0.81016074  0.21186989  0.84913055 -1.02904717 -0.54231679\n",
      "   2.39995869 -0.40419908 -0.36400938 -0.33135449  2.956928   -0.65921875\n",
      "  -0.66674657 -0.63925429 -0.62163594 -0.60622927 -0.59796638 -0.34194162\n",
      "  -0.21358766 -0.24000461 -0.24422965 -0.31413612 -0.18087821 -0.65937279]\n",
      " [-0.59720239  0.81016074  0.21186989  0.84913055 -0.16115646 -0.54231679\n",
      "  -0.41667384 -0.40419908 -0.36400938 -0.33135449 -0.33818882 -0.29855966\n",
      "  -0.49389911 -0.48240819 -0.44973025 -0.41718767 -0.39162956 -0.25029158\n",
      "  -0.19188673 -0.24000461 -0.24422965 -0.24868274 -0.01212243 -0.29937915]\n",
      " [-0.90549825  0.81016074  0.21186989 -1.06879721  0.16430256 -0.54231679\n",
      "  -0.41667384 -0.40419908 -0.36400938 -0.33135449 -0.33818882 -0.05749103\n",
      "  -0.01329269  0.03284648 -0.23237268 -0.18672897 -0.15657889 -0.22119058\n",
      "  -0.16936116 -0.22864528 -0.23784635 -0.24416646 -0.23713013 -0.0573286 ]\n",
      " [-0.90549825 -1.23432296  0.21186989 -1.06879721  2.33402934 -0.54231679\n",
      "  -0.41667384 -0.40419908 -0.36400938 -0.33135449 -0.33818882 -0.57861809\n",
      "  -0.61131792 -0.16118875 -0.3469972  -0.34813724 -0.33148158 -0.22119058\n",
      "   1.33503416  0.27116536  0.26643369 -0.26903874 -0.255187   -0.57884868]]\n"
     ]
    }
   ],
   "source": [
    "show_pipe_result(complex_pipe5, X_raw)"
   ]
  },
  {
   "cell_type": "code",
   "execution_count": null,
   "metadata": {},
   "outputs": [],
   "source": []
  },
  {
   "cell_type": "markdown",
   "metadata": {},
   "source": [
    "# Prediction Pipelines"
   ]
  },
  {
   "cell_type": "markdown",
   "metadata": {},
   "source": [
    "Prediction Pipelines consists of the following architecture:  \n",
    "  [Complex Pipeline, Classifier]"
   ]
  },
  {
   "cell_type": "code",
   "execution_count": null,
   "metadata": {},
   "outputs": [],
   "source": []
  },
  {
   "cell_type": "code",
   "execution_count": null,
   "metadata": {},
   "outputs": [],
   "source": []
  },
  {
   "cell_type": "code",
   "execution_count": null,
   "metadata": {},
   "outputs": [],
   "source": []
  },
  {
   "cell_type": "code",
   "execution_count": null,
   "metadata": {},
   "outputs": [],
   "source": []
  },
  {
   "cell_type": "code",
   "execution_count": null,
   "metadata": {},
   "outputs": [],
   "source": []
  },
  {
   "cell_type": "code",
   "execution_count": null,
   "metadata": {},
   "outputs": [],
   "source": []
  },
  {
   "cell_type": "code",
   "execution_count": null,
   "metadata": {},
   "outputs": [],
   "source": []
  },
  {
   "cell_type": "code",
   "execution_count": null,
   "metadata": {},
   "outputs": [],
   "source": []
  }
 ],
 "metadata": {
  "kernelspec": {
   "display_name": "Python 3",
   "language": "python",
   "name": "python3"
  },
  "language_info": {
   "codemirror_mode": {
    "name": "ipython",
    "version": 3
   },
   "file_extension": ".py",
   "mimetype": "text/x-python",
   "name": "python",
   "nbconvert_exporter": "python",
   "pygments_lexer": "ipython3",
   "version": "3.7.3"
  },
  "toc-autonumbering": true
 },
 "nbformat": 4,
 "nbformat_minor": 4
}
